{
 "cells": [
  {
   "cell_type": "markdown",
   "metadata": {},
   "source": [
    "# Lab 07"
   ]
  },
  {
   "cell_type": "markdown",
   "metadata": {},
   "source": [
    "## Zadanie 1"
   ]
  },
  {
   "cell_type": "markdown",
   "metadata": {},
   "source": [
    "Przygotuj demo programu znajdującego miejsca zerowe metodą Newtona. Wykorzystując `argparse` ([link](https://docs.python.org/3.6/library/argparse.html#module-argparse)) lub `optparse` ([link](https://docs.python.org/3.6/library/optparse.html)) obsłuż:\n",
    "- ustalane punktu startowego,\n",
    "- wielkość kroku w pochodnej,\n",
    "- ilość kroków metody,\n",
    "- dokładność\n",
    "- pomoc\n",
    "\n",
    "Program uruchamiamy podając, np.:"
   ]
  },
  {
   "cell_type": "markdown",
   "metadata": {},
   "source": [
    "`./newton.py x**2+x+1 -h 0.00001`\n",
    "\n"
   ]
  },
  {
   "cell_type": "code",
   "execution_count": null,
   "metadata": {
    "collapsed": false
   },
   "outputs": [],
   "source": [
    "import optparse\n",
    "from scipy import misc\n",
    "import sympy as sp\n",
    "\n",
    "def f(expr, x):\n",
    "    return expr.subs('x', x)\n",
    "\n",
    "def newton_method(expr, x0, epsilon, step, max_iter):   \n",
    "    x = x0\n",
    "    f_expr = sp.sympify(expr)\n",
    "    f_prime = sp.diff(f_expr, 'x')\n",
    "\n",
    "    for i in range(max_iter):\n",
    "        f_val = f(f_expr, x)\n",
    "        f_prime_val = f(f_prime, x)\n",
    "\n",
    "        if abs(f_val) < epsilon:\n",
    "            return x\n",
    "\n",
    "        x0 = x - f_val / f_prime_val * step\n",
    "        if abs(x0 - x) < epsilon:\n",
    "            return x0\n",
    "\n",
    "        x = x0\n",
    "\n",
    "    return None\n",
    "\"\"\"\n",
    "if __name__ == \"__main__\":\n",
    "    parser = optparse.OptionParser(description=\"Metoda Newtona do znajdowania miejsc zerowych funkcji.\")\n",
    "    parser.add_option(\"-f\", \"--function\", dest=\"function\", type=\"string\", help=\"Funkcja do analizy, np. x**2+x+1\")\n",
    "    parser.add_option(\"-s\", \"--start\", dest=\"start\", type=\"float\", default=1, help=\"Punkt startowy\")\n",
    "    parser.add_option(\"-p\", \"--step\", dest=\"step\", type=\"float\", default=0.6, help=\"Wielkość kroku w pochodnej\")\n",
    "    parser.add_option(\"-m\", \"--max_iter\", dest=\"max_iter\", type=\"int\", default=100, help=\"Liczba kroków metody\")\n",
    "    parser.add_option(\"-e\", \"--eps\", dest=\"eps\", type=\"float\", default=0.0001, help=\"Dokładność\")\n",
    "    (options, args) = parser.parse_args()\n",
    "\n",
    "    result = newton_method(options.function, options.start, options.eps, options.step, options.max_iter)\n",
    "\n",
    "\n",
    "    if result is not None:\n",
    "        print(f\"Miejsce zerowe: {result}\")\n",
    "    else:\n",
    "        print(\"Za mala liczba krokow by znalezc miejsce zerowe\")\n",
    "\"\"\""
   ]
  },
  {
   "cell_type": "markdown",
   "metadata": {},
   "source": [
    "## Zadanie 2"
   ]
  },
  {
   "cell_type": "markdown",
   "metadata": {},
   "source": [
    "Zadanie należy wykonać wykorzystując program `BagOfWords` z poprzednich zajęć.\n",
    "\n",
    "\n",
    "Przerób ją tak, żeby interpunkcja, cyfry i wszelkie inne znaki nie przeszkadzały w parsowaniu tekstu. Uruchom ja na [tekście hamleta](http://www.gutenberg.org/cache/epub/1787/pg1787.txt). Ile razy występuje słowo hamlet? Jak brzmi 10 najczęściej występujących słów?"
   ]
  },
  {
   "cell_type": "code",
   "execution_count": 3,
   "metadata": {
    "collapsed": false,
    "ExecuteTime": {
     "end_time": "2023-11-21T16:25:15.912859619Z",
     "start_time": "2023-11-21T16:25:15.863204474Z"
    }
   },
   "outputs": [],
   "source": [
    "import string\n",
    "from collections import defaultdict\n",
    "import itertools as it\n",
    "import json\n",
    "\n",
    "class BagOfWords:\n",
    "    def __init__(self, input_d):\n",
    "        self.data_ = defaultdict(int)\n",
    "        if isinstance(input_d, str):\n",
    "            processed_text = self.process_text(input_d)\n",
    "            self.add_text(processed_text)\n",
    "        else:\n",
    "            with input_d as lines:\n",
    "                for line in lines:\n",
    "                    processed_line = self.process_text(line)\n",
    "                    self.add_text(processed_line)\n",
    "    def __str__(self):\n",
    "        return ', '.join([f\"{word}:{count}\" for word, count in self.data_.items()])\n",
    " \n",
    "    def __contains__(self,word):\n",
    "        return word in self.data_\n",
    "    \n",
    "    def __iter__(self):\n",
    "        sorted_words = sorted(self.data_, key=lambda x: self.data_[x], reverse=True)\n",
    "        for word in sorted_words:\n",
    "            yield word\n",
    "\n",
    "    def __add__(self, other):\n",
    "        result = BagOfWords(\"\")\n",
    "        result.data_ = self.data_.copy()\n",
    "    \n",
    "        for key, value in other.data_.items():\n",
    "            result.data_[key] += value\n",
    "    \n",
    "        return result\n",
    "    \n",
    "    def process_text(self, text):\n",
    "        translator = str.maketrans('', '', string.punctuation + string.digits)\n",
    "        cleaned_text = text.translate(translator)\n",
    "        return cleaned_text.lower()\n",
    "\n",
    "    def add_text(self, text):\n",
    "        for word in text.split():\n",
    "            self.data_[word] += 1\n",
    "    \n",
    "    def __getitem__(self, item):\n",
    "        return self.data_[item]\n",
    "\n",
    "    def __setitem__(self, item, value):\n",
    "        self.data_[item] = value\n",
    "        \n",
    "    def save(self, file_path):\n",
    "        with open(file_path, 'w') as file:\n",
    "            json.dump(dict(self.data_), file)\n",
    "\n",
    "    def load(self, file_path):\n",
    "        with open(file_path, 'r') as file:\n",
    "            loaded_data = json.load(file)\n",
    "            self.data_ = defaultdict(int, loaded_data)\n",
    "\n"
   ]
  },
  {
   "cell_type": "markdown",
   "metadata": {},
   "source": [
    "## Zadanie 3"
   ]
  },
  {
   "cell_type": "markdown",
   "metadata": {},
   "source": [
    "Wykorzystując `pickle` zapisz i odczytaj klasy z poprzedniego zadania nakarmonej Hamletem. Porównaj metody i rozmiar.\n"
   ]
  },
  {
   "cell_type": "code",
   "execution_count": 4,
   "metadata": {
    "collapsed": false,
    "ExecuteTime": {
     "end_time": "2023-11-21T16:25:19.905380913Z",
     "start_time": "2023-11-21T16:25:19.790395140Z"
    }
   },
   "outputs": [
    {
     "name": "stdout",
     "output_type": "stream",
     "text": [
      "<class '__main__.BagOfWords'>\n"
     ]
    }
   ],
   "source": [
    "import pickle\n",
    "import sys\n",
    "bag = BagOfWords(open(\"hamlet.txt\"))\n",
    "picklefile = open('bag', 'wb')\n",
    "pickle.dump(bag, picklefile)\n",
    "picklefile.close() \n",
    "\n",
    "picklefile = open('bag', 'rb')\n",
    "bag2 = pickle.load(picklefile)\n",
    "picklefile.close()\n",
    "print(type(bag2))"
   ]
  },
  {
   "cell_type": "code",
   "execution_count": 5,
   "metadata": {
    "collapsed": false,
    "ExecuteTime": {
     "end_time": "2023-11-21T16:25:22.300633818Z",
     "start_time": "2023-11-21T16:25:22.227805901Z"
    }
   },
   "outputs": [
    {
     "data": {
      "text/plain": "['__add__',\n '__class__',\n '__contains__',\n '__delattr__',\n '__dict__',\n '__dir__',\n '__doc__',\n '__eq__',\n '__format__',\n '__ge__',\n '__getattribute__',\n '__getitem__',\n '__gt__',\n '__hash__',\n '__init__',\n '__init_subclass__',\n '__iter__',\n '__le__',\n '__lt__',\n '__module__',\n '__ne__',\n '__new__',\n '__reduce__',\n '__reduce_ex__',\n '__repr__',\n '__setattr__',\n '__setitem__',\n '__sizeof__',\n '__slotnames__',\n '__str__',\n '__subclasshook__',\n '__weakref__',\n 'add_text',\n 'data_',\n 'process_text']"
     },
     "execution_count": 5,
     "metadata": {},
     "output_type": "execute_result"
    }
   ],
   "source": [
    "dir(bag)\n"
   ]
  },
  {
   "cell_type": "code",
   "execution_count": 6,
   "metadata": {
    "collapsed": false,
    "ExecuteTime": {
     "end_time": "2023-11-21T16:25:22.980828979Z",
     "start_time": "2023-11-21T16:25:22.965044680Z"
    }
   },
   "outputs": [
    {
     "name": "stdout",
     "output_type": "stream",
     "text": [
      "48\n"
     ]
    }
   ],
   "source": [
    "print(sys.getsizeof(bag))"
   ]
  },
  {
   "cell_type": "code",
   "execution_count": 7,
   "metadata": {
    "collapsed": false,
    "ExecuteTime": {
     "end_time": "2023-11-21T16:25:23.800923270Z",
     "start_time": "2023-11-21T16:25:23.763907045Z"
    }
   },
   "outputs": [
    {
     "data": {
      "text/plain": "['__add__',\n '__class__',\n '__contains__',\n '__delattr__',\n '__dict__',\n '__dir__',\n '__doc__',\n '__eq__',\n '__format__',\n '__ge__',\n '__getattribute__',\n '__getitem__',\n '__gt__',\n '__hash__',\n '__init__',\n '__init_subclass__',\n '__iter__',\n '__le__',\n '__lt__',\n '__module__',\n '__ne__',\n '__new__',\n '__reduce__',\n '__reduce_ex__',\n '__repr__',\n '__setattr__',\n '__setitem__',\n '__sizeof__',\n '__slotnames__',\n '__str__',\n '__subclasshook__',\n '__weakref__',\n 'add_text',\n 'data_',\n 'process_text']"
     },
     "execution_count": 7,
     "metadata": {},
     "output_type": "execute_result"
    }
   ],
   "source": [
    "dir(bag2)"
   ]
  },
  {
   "cell_type": "code",
   "execution_count": 8,
   "metadata": {
    "collapsed": false,
    "ExecuteTime": {
     "end_time": "2023-11-21T16:25:25.967243285Z",
     "start_time": "2023-11-21T16:25:25.855949143Z"
    }
   },
   "outputs": [
    {
     "name": "stdout",
     "output_type": "stream",
     "text": [
      "48\n"
     ]
    }
   ],
   "source": [
    "print(sys.getsizeof(bag2))\n"
   ]
  },
  {
   "cell_type": "markdown",
   "metadata": {},
   "source": [
    "## Zadanie 4"
   ]
  },
  {
   "cell_type": "markdown",
   "metadata": {},
   "source": [
    "Wykorzystując [https://gist.github.com/pamelafox/986163](https://gist.github.com/pamelafox/986163) podaj aktualną godzinę we:\n",
    "- wszystkich krajach, wyświetlając je zgrupowane względem kontynentów,\n",
    "- przeprowadź symulacyjne wyświetlanie kolejnych krajów w miarę jak w danym kraju wybija północ, opóżnienie wyświetlania ustaw proporcjonalne do realnego czasu"
   ]
  },
  {
   "cell_type": "code",
   "execution_count": null,
   "metadata": {
    "collapsed": false
   },
   "outputs": [],
   "source": [
    "from countryinfo import countries\n",
    "from datetime import datetime\n",
    "from dateutil import tz\n",
    "from itertools import groupby\n",
    "from operator import itemgetter\n",
    "from time import sleep\n",
    "\n",
    "data = sorted(countries, key=itemgetter(\"continent\"))\n",
    "\n",
    "for continent, val in groupby(data, key=itemgetter(\"continent\")):\n",
    "    print(continent.upper().center(41))\n",
    "    print()\n",
    "    for country in val:\n",
    "        timezone = tz.gettz(country[\"timezones\"][0])\n",
    "        time = datetime.now(tz=timezone).strftime(\"%H:%M:%S\")\n",
    "        print(\"{0:35}{1}\".format(country[\"name\"], time))\n",
    "    print()"
   ]
  },
  {
   "cell_type": "markdown",
   "metadata": {},
   "source": [
    "## Zadanie 5"
   ]
  },
  {
   "cell_type": "markdown",
   "metadata": {},
   "source": [
    "Dla klasy `BagOfWords` napisz metody `save` oraz `load` wykorzystujące `json`'a do zapisu i odczytu danych."
   ]
  },
  {
   "cell_type": "code",
   "execution_count": null,
   "metadata": {
    "collapsed": false
   },
   "outputs": [],
   "source": [
    "bow = BagOfWords(\"Maurycy co ty tutaj robisz\")\n",
    "print(bow)"
   ]
  },
  {
   "cell_type": "code",
   "execution_count": null,
   "metadata": {
    "collapsed": false
   },
   "outputs": [],
   "source": []
  },
  {
   "cell_type": "code",
   "execution_count": null,
   "metadata": {
    "collapsed": false
   },
   "outputs": [],
   "source": []
  },
  {
   "cell_type": "code",
   "execution_count": null,
   "metadata": {
    "collapsed": false
   },
   "outputs": [],
   "source": []
  },
  {
   "cell_type": "code",
   "execution_count": null,
   "metadata": {
    "collapsed": false
   },
   "outputs": [],
   "source": []
  }
 ],
 "metadata": {
  "kernelspec": {
   "display_name": "Python 3",
   "language": "python",
   "name": "python3"
  },
  "language_info": {
   "codemirror_mode": {
    "name": "ipython",
    "version": 3
   },
   "file_extension": ".py",
   "mimetype": "text/x-python",
   "name": "python",
   "nbconvert_exporter": "python",
   "pygments_lexer": "ipython3",
   "version": "3.11.5"
  }
 },
 "nbformat": 4,
 "nbformat_minor": 2
}
