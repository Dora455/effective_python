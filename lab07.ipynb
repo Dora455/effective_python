{
 "cells": [
  {
   "cell_type": "markdown",
   "metadata": {},
   "source": [
    "# Lab 07"
   ]
  },
  {
   "cell_type": "markdown",
   "metadata": {},
   "source": [
    "## Zadanie 1"
   ]
  },
  {
   "cell_type": "markdown",
   "metadata": {},
   "source": [
    "Przygotuj demo programu znajdującego miejsca zerowe metodą Newtona. Wykorzystując `argparse` ([link](https://docs.python.org/3.6/library/argparse.html#module-argparse)) lub `optparse` ([link](https://docs.python.org/3.6/library/optparse.html)) obsłuż:\n",
    "- ustalane punktu startowego,\n",
    "- wielkość kroku w pochodnej,\n",
    "- ilość kroków metody,\n",
    "- dokładność\n",
    "- pomoc\n",
    "\n",
    "Program uruchamiamy podając, np.:"
   ]
  },
  {
   "cell_type": "markdown",
   "metadata": {},
   "source": [
    "`./newton.py x**2+x+1 -h 0.00001`\n",
    "\n"
   ]
  },
  {
   "cell_type": "code",
   "execution_count": null,
   "outputs": [],
   "source": [],
   "metadata": {
    "collapsed": false
   }
  },
  {
   "cell_type": "markdown",
   "metadata": {},
   "source": [
    "## Zadanie 2"
   ]
  },
  {
   "cell_type": "markdown",
   "metadata": {},
   "source": [
    "Zadanie należy wykonać wykorzystując program `BagOfWords` z poprzednich zajęć.\n",
    "\n",
    "\n",
    "Przerób ją tak, żeby interpunkcja, cyfry i wszelkie inne znaki nie przeszkadzały w parsowaniu tekstu. Uruchom ja na [tekście hamleta](http://www.gutenberg.org/cache/epub/1787/pg1787.txt). Ile razy występuje słowo hamlet? Jak brzmi 10 najczęściej występujących słów?"
   ]
  },
  {
   "cell_type": "code",
   "execution_count": null,
   "outputs": [],
   "source": [
    "import string\n",
    "from collections import defaultdict\n",
    "import itertools as it\n",
    "\n",
    "class BagOfWords:\n",
    "    def __init__(self, input_d):\n",
    "        self.data_ = defaultdict(int)\n",
    "        if isinstance(input_d, str):\n",
    "            processed_text = self.process_text(input_d)\n",
    "            self.add_text(processed_text)\n",
    "        else:\n",
    "            with input_d as lines:\n",
    "                for line in lines:\n",
    "                    processed_line = self.process_text(line)\n",
    "                    self.add_text(processed_line)\n",
    "    def __str__(self):\n",
    "        return ', '.join([f\"{word}:{count}\" for word, count in self.data_.items()])\n",
    " \n",
    "    def __contains__(self,word):\n",
    "        return word in self.data_\n",
    "    \n",
    "    def __iter__(self):\n",
    "        sorted_words = sorted(self.data_, key=lambda x: self.data_[x], reverse=True)\n",
    "        for word in sorted_words:\n",
    "            yield word\n",
    "\n",
    "    def __add__(self, other):\n",
    "        result = BagOfWords(\"\")\n",
    "        result.data_ = self.data_.copy()\n",
    "    \n",
    "        for key, value in other.data_.items():\n",
    "            result.data_[key] += value\n",
    "    \n",
    "        return result\n",
    "    \n",
    "    def process_text(self, text):\n",
    "        translator = str.maketrans('', '', string.punctuation + string.digits)\n",
    "        cleaned_text = text.translate(translator)\n",
    "        return cleaned_text.lower()\n",
    "\n",
    "    def add_text(self, text):\n",
    "        for word in text.split():\n",
    "            self.data_[word] += 1\n",
    "    \n",
    "    def __getitem__(self, item):\n",
    "        return self.data_[item]\n",
    "\n",
    "    def __setitem__(self, item, value):\n",
    "        self.data_[item] = value\n",
    "\n"
   ],
   "metadata": {
    "collapsed": false
   }
  },
  {
   "cell_type": "markdown",
   "metadata": {},
   "source": [
    "## Zadanie 3"
   ]
  },
  {
   "cell_type": "markdown",
   "metadata": {},
   "source": [
    "Wykorzystując `pickle` zapisz i odczytaj klasy z poprzedniego zadania nakarmonej Hamletem. Porównaj metody i rozmiar.\n"
   ]
  },
  {
   "cell_type": "code",
   "execution_count": null,
   "outputs": [],
   "source": [
    "import pickle\n",
    "import sys\n",
    "bag = BagOfWords(open(\"hamlet.txt\"))\n",
    "picklefile = open('bag', 'wb')\n",
    "pickle.dump(bag, picklefile)\n",
    "picklefile.close() \n",
    "\n",
    "picklefile = open('bag', 'rb')\n",
    "bag2 = pickle.load(picklefile)\n",
    "picklefile.close()\n",
    "print(type(bag2))"
   ],
   "metadata": {
    "collapsed": false
   }
  },
  {
   "cell_type": "code",
   "execution_count": null,
   "outputs": [],
   "source": [
    "dir(bag)\n"
   ],
   "metadata": {
    "collapsed": false
   }
  },
  {
   "cell_type": "code",
   "execution_count": null,
   "outputs": [],
   "source": [
    "print(sys.getsizeof(bag))"
   ],
   "metadata": {
    "collapsed": false
   }
  },
  {
   "cell_type": "code",
   "execution_count": null,
   "outputs": [],
   "source": [
    "dir(bag2)"
   ],
   "metadata": {
    "collapsed": false
   }
  },
  {
   "cell_type": "code",
   "execution_count": null,
   "outputs": [],
   "source": [
    "print(sys.getsizeof(bag2))\n"
   ],
   "metadata": {
    "collapsed": false
   }
  },
  {
   "cell_type": "markdown",
   "metadata": {},
   "source": [
    "## Zadanie 4"
   ]
  },
  {
   "cell_type": "markdown",
   "metadata": {},
   "source": [
    "Wykorzystując [https://gist.github.com/pamelafox/986163](https://gist.github.com/pamelafox/986163) podaj aktualną godzinę we:\n",
    "- wszystkich krajach, wyświetlając je zgrupowane względem kontynentów,\n",
    "- przeprowadź symulacyjne wyświetlanie kolejnych krajów w miarę jak w danym kraju wybija północ, opóżnienie wyświetlania ustaw proporcjonalne do realnego czasu"
   ]
  },
  {
   "cell_type": "code",
   "execution_count": null,
   "outputs": [],
   "source": [
    "from countryinfo import countries\n",
    "from datetime import datetime\n",
    "from dateutil import tz\n",
    "from itertools import groupby\n",
    "from operator import itemgetter\n",
    "from time import sleep\n",
    "\n",
    "data = sorted(countries, key=itemgetter(\"continent\"))\n",
    "\n",
    "for continent, val in groupby(data, key=itemgetter(\"continent\")):\n",
    "    print(continent.upper().center(41))\n",
    "    print()\n",
    "    for country in val:\n",
    "        timezone = tz.gettz(country[\"timezones\"][0])\n",
    "        time = datetime.now(tz=timezone).strftime(\"%H:%M:%S\")\n",
    "        print(\"{0:35}{1}\".format(country[\"name\"], time))\n",
    "    print()"
   ],
   "metadata": {
    "collapsed": false
   }
  },
  {
   "cell_type": "markdown",
   "metadata": {},
   "source": [
    "## Zadanie 5"
   ]
  },
  {
   "cell_type": "markdown",
   "metadata": {},
   "source": [
    "Dla klasy `BagOfWords` napisz metody `save` oraz `load` wykorzystujące `json`'a do zapisu i odczytu danych."
   ]
  },
  {
   "cell_type": "code",
   "execution_count": null,
   "outputs": [],
   "source": [
    "bow = BagOfWords(\"Maurycy co ty tutaj robisz\")\n",
    "print(bow)"
   ],
   "metadata": {
    "collapsed": false
   }
  },
  {
   "cell_type": "code",
   "execution_count": null,
   "outputs": [],
   "source": [],
   "metadata": {
    "collapsed": false
   }
  },
  {
   "cell_type": "code",
   "execution_count": null,
   "outputs": [],
   "source": [],
   "metadata": {
    "collapsed": false
   }
  },
  {
   "cell_type": "code",
   "execution_count": null,
   "outputs": [],
   "source": [],
   "metadata": {
    "collapsed": false
   }
  },
  {
   "cell_type": "code",
   "execution_count": null,
   "outputs": [],
   "source": [],
   "metadata": {
    "collapsed": false
   }
  }
 ],
 "metadata": {
  "kernelspec": {
   "display_name": "Python 3",
   "language": "python",
   "name": "python3"
  },
  "language_info": {
   "codemirror_mode": {
    "name": "ipython",
    "version": 3
   },
   "file_extension": ".py",
   "mimetype": "text/x-python",
   "name": "python",
   "nbconvert_exporter": "python",
   "pygments_lexer": "ipython3",
   "version": "3.7.9"
  }
 },
 "nbformat": 4,
 "nbformat_minor": 2
}
